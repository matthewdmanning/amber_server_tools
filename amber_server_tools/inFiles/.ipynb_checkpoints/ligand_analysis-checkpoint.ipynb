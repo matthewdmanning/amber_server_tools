{
 "cells": [
  {
   "cell_type": "code",
   "execution_count": null,
   "metadata": {
    "collapsed": true
   },
   "outputs": [],
   "source": [
    "### This script analyzes and visualizes cpptraj output data of individual ligands.from pylab import *import numpy as npimport pandas as pdimport matplotlib.pyplot as pltimport matplotlib.font_managerfrom matplotlib import rcParamsimport globimport osclass context_working_dir_manager:\"\"\"Context manager for changing the current working directory\"\"\"def __init__(self, newPath):self.newPath = os.path.expanduser(newPath)def __enter__(self):self.savedPath = os.getcwd()os.chdir(self.newPath)def __exit__(self, etype, value, traceback):os.chdir(self.savedPath)with context_working_dir_manager(\"./\"):rcParams.update({'figure.autolayout': True})font = {'size': 20}matplotlib.rc('font', **font)systems = glob.glob('*/')data_files_list = glob.glob('*lig*.dat')for data_file in data_files_list:cpp_df = pd.read_fwf(data_file, skiprow=lambda n: n % 50 == 0)#, delim_whitespace=True)print('Dataframe loaded...\\n')rog_df = cpp_df.filter(regex='*[Max]', axis=1)rog_df.mean(axis=0).plot()plt.show()print(rog_df.head())rog_df.plot.kde()plt.show()print('You should have gotten the KDE by now...\\n')"
   ]
  }
 ],
 "metadata": {
  "kernelspec": {
   "display_name": "Python 2",
   "language": "python",
   "name": "python2"
  },
  "language_info": {
   "codemirror_mode": {
    "name": "ipython",
    "version": 2
   },
   "file_extension": ".py",
   "mimetype": "text/x-python",
   "name": "python",
   "nbconvert_exporter": "python",
   "pygments_lexer": "ipython2",
   "version": "2.7.12"
  }
 },
 "nbformat": 4,
 "nbformat_minor": 0
}
